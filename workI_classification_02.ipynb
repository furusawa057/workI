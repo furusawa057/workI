{
 "cells": [
  {
   "cell_type": "code",
   "execution_count": 1,
   "metadata": {},
   "outputs": [],
   "source": [
    "import warnings\n",
    "\n",
    "import matplotlib.pyplot as plt\n",
    "import numpy as np\n",
    "import pandas as pd\n",
    "import seaborn as sns\n",
    "\n",
    "warnings.filterwarnings('ignore')\n",
    "\n",
    "%matplotlib inline"
   ]
  },
  {
   "cell_type": "markdown",
   "metadata": {},
   "source": [
    "# 2クラス分類での評価指標\n",
    "1. 混同行列(Confusion Matrix)\n",
    "2. 正答率(Accuracy)\n",
    "3. 適合率(Precision)\n",
    "4. 再現率(Recall)\n",
    "5. 交差エントロピー誤差(Cross Entropy Loss; LogLoss)\n",
    "   \n",
    "---\n",
    "## 混合行列\n",
    "二値分類の正解・不正解の種類には以下の4つがある。\n",
    "  - TP (True Positive) → 正の予測 - 正解\n",
    "  - FP (False Positive) →正の予測 - 不正解(実際には負)\n",
    "  - FN (False Negative) →負の予測 - 不正解(実際には正)\n",
    "  - TN (True Negative) →負の予測 - 正解\n",
    "\n",
    "1文字目：予測の正誤。T(True)は予測正解、F(False)は予測不正解。  \n",
    "2文字目：予測の内容。Pは予測が正(Positive)、Nは予測が負(Negative)  \n",
    "\n",
    "→ これらのマトリックスを混合行列という。\n",
    "\n",
    "\n",
    "## 正答率(Accuracy)\n",
    "全予測に対する正答率。\n",
    "### ・導出方法\n",
    "$$\\frac{TP+TN}{TP+FP+FN+TN}$$\n",
    "\n",
    "\n",
    "## 適合率(Precision)\n",
    "正と予測したデータのうち，実際に正であるものの割合。「精度」と呼ぶこともある。\n",
    "### ・導出方法\n",
    "$$\\frac{TP}{TP+FP}$$\n",
    "\n",
    "\n",
    "## 再現率(Recall)\n",
    "実際に正であるもののうち，正であると予測されたものの割合。\n",
    "### ・導出方法\n",
    "$$\\frac{TP}{TP+FN}$$\n",
    "\n",
    "\n",
    "\n",
    "## 交差エントロピー誤差\n",
    "２つの確立分布がどれくらい離れているかを表す指標\n",
    "### ・導出方法\n",
    "正解データを $t(k)$、\n",
    "モデルによって出力される判定を $y(k)$\n",
    "とするとき、交差エントロピー誤差 $E$は以下のように定義される。\n",
    "$$E=-\\sum_{k} t(k)\\log{y(k)}$$\n"
   ]
  },
  {
   "cell_type": "markdown",
   "metadata": {},
   "source": [
    "## sklearnで実装\n",
    "breast_cancer"
   ]
  },
  {
   "cell_type": "code",
   "execution_count": 4,
   "metadata": {},
   "outputs": [],
   "source": [
    "from sklearn.datasets import load_breast_cancer\n",
    "\n",
    "breast_cancer=load_breast_cancer()"
   ]
  },
  {
   "cell_type": "code",
   "execution_count": 57,
   "metadata": {},
   "outputs": [
    {
     "data": {
      "text/plain": [
       "(569, 4)"
      ]
     },
     "execution_count": 57,
     "metadata": {},
     "output_type": "execute_result"
    }
   ],
   "source": [
    "X=breast_cancer.data[:,:4]\n",
    "y=breast_cancer.target\n",
    "\n",
    "X.shape"
   ]
  },
  {
   "cell_type": "code",
   "execution_count": 58,
   "metadata": {},
   "outputs": [
    {
     "data": {
      "text/html": [
       "<div>\n",
       "<style scoped>\n",
       "    .dataframe tbody tr th:only-of-type {\n",
       "        vertical-align: middle;\n",
       "    }\n",
       "\n",
       "    .dataframe tbody tr th {\n",
       "        vertical-align: top;\n",
       "    }\n",
       "\n",
       "    .dataframe thead th {\n",
       "        text-align: right;\n",
       "    }\n",
       "</style>\n",
       "<table border=\"1\" class=\"dataframe\">\n",
       "  <thead>\n",
       "    <tr style=\"text-align: right;\">\n",
       "      <th></th>\n",
       "      <th>mean radius</th>\n",
       "      <th>mean texture</th>\n",
       "      <th>mean perimeter</th>\n",
       "      <th>mean area</th>\n",
       "      <th>y</th>\n",
       "    </tr>\n",
       "  </thead>\n",
       "  <tbody>\n",
       "    <tr>\n",
       "      <th>0</th>\n",
       "      <td>17.99</td>\n",
       "      <td>10.38</td>\n",
       "      <td>122.80</td>\n",
       "      <td>1001.0</td>\n",
       "      <td>0</td>\n",
       "    </tr>\n",
       "    <tr>\n",
       "      <th>1</th>\n",
       "      <td>20.57</td>\n",
       "      <td>17.77</td>\n",
       "      <td>132.90</td>\n",
       "      <td>1326.0</td>\n",
       "      <td>0</td>\n",
       "    </tr>\n",
       "    <tr>\n",
       "      <th>2</th>\n",
       "      <td>19.69</td>\n",
       "      <td>21.25</td>\n",
       "      <td>130.00</td>\n",
       "      <td>1203.0</td>\n",
       "      <td>0</td>\n",
       "    </tr>\n",
       "    <tr>\n",
       "      <th>3</th>\n",
       "      <td>11.42</td>\n",
       "      <td>20.38</td>\n",
       "      <td>77.58</td>\n",
       "      <td>386.1</td>\n",
       "      <td>0</td>\n",
       "    </tr>\n",
       "    <tr>\n",
       "      <th>4</th>\n",
       "      <td>20.29</td>\n",
       "      <td>14.34</td>\n",
       "      <td>135.10</td>\n",
       "      <td>1297.0</td>\n",
       "      <td>0</td>\n",
       "    </tr>\n",
       "  </tbody>\n",
       "</table>\n",
       "</div>"
      ],
      "text/plain": [
       "   mean radius  mean texture  mean perimeter  mean area  y\n",
       "0        17.99         10.38          122.80     1001.0  0\n",
       "1        20.57         17.77          132.90     1326.0  0\n",
       "2        19.69         21.25          130.00     1203.0  0\n",
       "3        11.42         20.38           77.58      386.1  0\n",
       "4        20.29         14.34          135.10     1297.0  0"
      ]
     },
     "execution_count": 58,
     "metadata": {},
     "output_type": "execute_result"
    }
   ],
   "source": [
    "df=pd.DataFrame(X,columns=breast_cancer.feature_names[:4])\n",
    "df['y']=y\n",
    "\n",
    "\n",
    "df.head()"
   ]
  },
  {
   "cell_type": "code",
   "execution_count": 59,
   "metadata": {},
   "outputs": [
    {
     "name": "stdout",
     "output_type": "stream",
     "text": [
      "<class 'pandas.core.frame.DataFrame'>\n",
      "RangeIndex: 569 entries, 0 to 568\n",
      "Data columns (total 5 columns):\n",
      "mean radius       569 non-null float64\n",
      "mean texture      569 non-null float64\n",
      "mean perimeter    569 non-null float64\n",
      "mean area         569 non-null float64\n",
      "y                 569 non-null int32\n",
      "dtypes: float64(4), int32(1)\n",
      "memory usage: 20.1 KB\n"
     ]
    }
   ],
   "source": [
    "df.info()"
   ]
  },
  {
   "cell_type": "markdown",
   "metadata": {},
   "source": [
    "## データの分割(ホールドアウト)"
   ]
  },
  {
   "cell_type": "code",
   "execution_count": 60,
   "metadata": {},
   "outputs": [
    {
     "name": "stdout",
     "output_type": "stream",
     "text": [
      "(569, 4) (171, 4)\n",
      "(569,) (171,)\n"
     ]
    }
   ],
   "source": [
    "from sklearn.model_selection import train_test_split\n",
    "\n",
    "X_train, X_test, y_train, y_test = train_test_split(df.drop(columns=['y']), df['y'], train_size=0.7, random_state=0)\n",
    "\n",
    "print(X.shape, X_test.shape)\n",
    "print(y.shape, y_test.shape)"
   ]
  },
  {
   "cell_type": "code",
   "execution_count": 61,
   "metadata": {},
   "outputs": [
    {
     "data": {
      "text/plain": [
       "(array([149, 249], dtype=int64), array([ 63, 108], dtype=int64))"
      ]
     },
     "execution_count": 61,
     "metadata": {},
     "output_type": "execute_result"
    }
   ],
   "source": [
    "# 分割後のクラスバランスを確認\n",
    "np.bincount(y_train), np.bincount(y_test)"
   ]
  },
  {
   "cell_type": "markdown",
   "metadata": {},
   "source": [
    "## 予測モデル構築(ロジスティック回帰)"
   ]
  },
  {
   "cell_type": "code",
   "execution_count": 62,
   "metadata": {},
   "outputs": [
    {
     "data": {
      "text/plain": [
       "LogisticRegression(C=1.0, class_weight=None, dual=False, fit_intercept=True,\n",
       "                   intercept_scaling=1, l1_ratio=None, max_iter=100,\n",
       "                   multi_class='warn', n_jobs=None, penalty='l2',\n",
       "                   random_state=None, solver='warn', tol=0.0001, verbose=0,\n",
       "                   warm_start=False)"
      ]
     },
     "execution_count": 62,
     "metadata": {},
     "output_type": "execute_result"
    }
   ],
   "source": [
    "from sklearn.linear_model import LogisticRegression\n",
    "logistic_regression=LogisticRegression()\n",
    "\n",
    "logistic_regression.fit(X_train, y_train)"
   ]
  },
  {
   "cell_type": "markdown",
   "metadata": {},
   "source": [
    "## 予測してみる"
   ]
  },
  {
   "cell_type": "code",
   "execution_count": 85,
   "metadata": {},
   "outputs": [
    {
     "data": {
      "text/plain": [
       "array([1, 1])"
      ]
     },
     "execution_count": 85,
     "metadata": {},
     "output_type": "execute_result"
    }
   ],
   "source": [
    "X_new = np.array([[33, 53, 200, 1300],\n",
    "                  [20, 30, 80, 1700]])\n",
    "\n",
    "logistic_regression.predict(X_new)"
   ]
  },
  {
   "cell_type": "code",
   "execution_count": 86,
   "metadata": {},
   "outputs": [
    {
     "data": {
      "text/plain": [
       "array([[3.23612812e-05, 9.99967639e-01],\n",
       "       [3.02130382e-04, 9.99697870e-01]])"
      ]
     },
     "execution_count": 86,
     "metadata": {},
     "output_type": "execute_result"
    }
   ],
   "source": [
    "# 各要素の確率\n",
    "logistic_regression.predict_proba(X_new)"
   ]
  },
  {
   "cell_type": "markdown",
   "metadata": {},
   "source": [
    "## 評価\n",
    "正答率を算出"
   ]
  },
  {
   "cell_type": "code",
   "execution_count": 87,
   "metadata": {},
   "outputs": [],
   "source": [
    "from sklearn.metrics import confusion_matrix, accuracy_score, precision_score, recall_score"
   ]
  },
  {
   "cell_type": "markdown",
   "metadata": {},
   "source": [
    "### 混合行列"
   ]
  },
  {
   "cell_type": "code",
   "execution_count": 89,
   "metadata": {},
   "outputs": [
    {
     "name": "stdout",
     "output_type": "stream",
     "text": [
      "Train confusion matrics\n",
      "[[121  28]\n",
      " [ 10 239]]\n",
      "Test confusion matrics\n",
      "[[ 55   8]\n",
      " [  7 101]]\n"
     ]
    }
   ],
   "source": [
    "cm_train=confusion_matrix(y_true=y_train, y_pred=logistic_regression.predict(X_train))\n",
    "cm_test=confusion_matrix(y_true=y_test, y_pred=logistic_regression.predict(X_test))\n",
    "\n",
    "print(f'Train confusion matrics\\n{cm_train}')\n",
    "print(f'Test confusion matrics\\n{cm_test}')"
   ]
  },
  {
   "cell_type": "markdown",
   "metadata": {},
   "source": [
    "### 正答率"
   ]
  },
  {
   "cell_type": "code",
   "execution_count": 92,
   "metadata": {},
   "outputs": [
    {
     "name": "stdout",
     "output_type": "stream",
     "text": [
      "Train accuracy:0.905\n",
      "Test accuracy:0.912\n"
     ]
    }
   ],
   "source": [
    "acc_train=accuracy_score(y_true=y_train, y_pred=logistic_regression.predict(X_train))\n",
    "acc_test=accuracy_score(y_true=y_test, y_pred=logistic_regression.predict(X_test))\n",
    "\n",
    "print(f'Train accuracy:{acc_train:.3f}')\n",
    "print(f'Test accuracy:{acc_test:.3f}')"
   ]
  },
  {
   "cell_type": "markdown",
   "metadata": {},
   "source": [
    "### 適合率"
   ]
  },
  {
   "cell_type": "code",
   "execution_count": 93,
   "metadata": {},
   "outputs": [
    {
     "name": "stdout",
     "output_type": "stream",
     "text": [
      "Train precision:0.895\n",
      "Test precision:0.927\n"
     ]
    }
   ],
   "source": [
    "prec_train=precision_score(y_true=y_train, y_pred=logistic_regression.predict(X_train))\n",
    "prec_test=precision_score(y_true=y_test, y_pred=logistic_regression.predict(X_test))\n",
    "\n",
    "print(f'Train precision:{prec_train:.3f}')\n",
    "print(f'Test precision:{prec_test:.3f}')"
   ]
  },
  {
   "cell_type": "markdown",
   "metadata": {},
   "source": [
    "### 再現率"
   ]
  },
  {
   "cell_type": "code",
   "execution_count": 94,
   "metadata": {},
   "outputs": [
    {
     "name": "stdout",
     "output_type": "stream",
     "text": [
      "Train recall:0.960\n",
      "Test recall:0.935\n"
     ]
    }
   ],
   "source": [
    "recall_train=recall_score(y_true=y_train, y_pred=logistic_regression.predict(X_train))\n",
    "recall_test=recall_score(y_true=y_test, y_pred=logistic_regression.predict(X_test))\n",
    "\n",
    "print(f'Train recall:{recall_train:.3f}')\n",
    "print(f'Test recall:{recall_test:.3f}')"
   ]
  }
 ],
 "metadata": {
  "kernelspec": {
   "display_name": "Python 3",
   "language": "python",
   "name": "python3"
  },
  "language_info": {
   "codemirror_mode": {
    "name": "ipython",
    "version": 3
   },
   "file_extension": ".py",
   "mimetype": "text/x-python",
   "name": "python",
   "nbconvert_exporter": "python",
   "pygments_lexer": "ipython3",
   "version": "3.7.3"
  },
  "toc": {
   "base_numbering": 1,
   "nav_menu": {},
   "number_sections": true,
   "sideBar": true,
   "skip_h1_title": false,
   "title_cell": "Table of Contents",
   "title_sidebar": "Contents",
   "toc_cell": false,
   "toc_position": {},
   "toc_section_display": true,
   "toc_window_display": false
  },
  "varInspector": {
   "cols": {
    "lenName": 16,
    "lenType": 16,
    "lenVar": 40
   },
   "kernels_config": {
    "python": {
     "delete_cmd_postfix": "",
     "delete_cmd_prefix": "del ",
     "library": "var_list.py",
     "varRefreshCmd": "print(var_dic_list())"
    },
    "r": {
     "delete_cmd_postfix": ") ",
     "delete_cmd_prefix": "rm(",
     "library": "var_list.r",
     "varRefreshCmd": "cat(var_dic_list()) "
    }
   },
   "types_to_exclude": [
    "module",
    "function",
    "builtin_function_or_method",
    "instance",
    "_Feature"
   ],
   "window_display": false
  }
 },
 "nbformat": 4,
 "nbformat_minor": 2
}

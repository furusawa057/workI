{
 "cells": [
  {
   "cell_type": "code",
   "execution_count": 1,
   "metadata": {},
   "outputs": [],
   "source": [
    "import warnings\n",
    "\n",
    "import matplotlib.pyplot as plt\n",
    "import numpy as np\n",
    "import pandas as pd\n",
    "import seaborn as sns\n",
    "\n",
    "warnings.filterwarnings('ignore')\n",
    "\n",
    "%matplotlib inline"
   ]
  },
  {
   "cell_type": "markdown",
   "metadata": {},
   "source": [
    "# 2クラス分類での評価指標\n",
    "1. 混同行列(Confusion Matrix)\n",
    "2. 正答率(Accuracy)\n",
    "3. 適合率(Precision)\n",
    "4. 再現率(Recall)\n",
    "5. 交差エントロピー誤差(Cross Entropy Loss; LogLoss)\n",
    "   \n",
    "---\n",
    "## 混合行列\n",
    "二値分類の正解・不正解の種類には以下の4つがある。\n",
    "  - TP (True Positive) → 正の予測 - 正解\n",
    "  - FP (False Positive) →正の予測 - 不正解(実際には負)\n",
    "  - FN (False Negative) →負の予測 - 不正解(実際には正)\n",
    "  - TN (True Negative) →負の予測 - 正解\n",
    "\n",
    "1文字目：予測の正誤。T(True)は予測正解、F(False)は予測不正解。  \n",
    "2文字目：予測の内容。Pは予測が正(Positive)、Nは予測が負(Negative)  \n",
    "\n",
    "→ これらのマトリックスを混合行列という。\n",
    "\n",
    "\n",
    "## 正答率(Accuracy)\n",
    "全予測に対する正答率。\n",
    "### ・導出方法\n",
    "$$\\frac{TP+TN}{TP+FP+FN+TN}$$\n",
    "\n",
    "\n",
    "## 適合率(Precision)\n",
    "正と予測したデータのうち，実際に正であるものの割合。「精度」と呼ぶこともある。\n",
    "### ・導出方法\n",
    "$$\\frac{TP}{TP+FP}$$\n",
    "\n",
    "\n",
    "## 再現率(Recall)\n",
    "実際に正であるもののうち，正であると予測されたものの割合。\n",
    "### ・導出方法\n",
    "$$\\frac{TP}{TP+FN}$$\n",
    "\n",
    "\n",
    "## 再現率(Recall)\n",
    "実際に正であるもののうち，正であると予測されたものの割合。\n",
    "\n",
    "### ・導出方法\n",
    "$$\\frac{TP}{TP+FN}$$\n",
    "\n",
    "\n",
    "## 交差エントロピー誤差\n",
    "２つの確立分布がどれくらい離れているかを表す指標\n",
    "### ・導出方法\n",
    "正解データを $t(k)$、\n",
    "モデルによって出力される判定を $y(k)$\n",
    "とするとき、交差エントロピー誤差 $E$は以下のように定義される。\n",
    "$$E=-\\sum_{k} t(k)\\log{y(k)}$$\n"
   ]
  },
  {
   "cell_type": "markdown",
   "metadata": {},
   "source": [
    "## 手計算\n",
    "$TP=10$  \n",
    "$FP=5$  \n",
    "$FN=7$  \n",
    "$TN=12$  \n",
    "とする"
   ]
  },
  {
   "cell_type": "code",
   "execution_count": 2,
   "metadata": {},
   "outputs": [],
   "source": [
    "tp=10\n",
    "fp=5\n",
    "fn=7\n",
    "tn=12"
   ]
  },
  {
   "cell_type": "markdown",
   "metadata": {},
   "source": [
    "### 正答率"
   ]
  },
  {
   "cell_type": "code",
   "execution_count": 6,
   "metadata": {},
   "outputs": [
    {
     "data": {
      "text/plain": [
       "0.6470588235294118"
      ]
     },
     "execution_count": 6,
     "metadata": {},
     "output_type": "execute_result"
    }
   ],
   "source": [
    "accuracy_test=(tp+tn)/(tp+fp+fn+tn)\n",
    "accuracy_test"
   ]
  },
  {
   "cell_type": "code",
   "execution_count": 7,
   "metadata": {},
   "outputs": [
    {
     "data": {
      "text/plain": [
       "0.6666666666666666"
      ]
     },
     "execution_count": 7,
     "metadata": {},
     "output_type": "execute_result"
    }
   ],
   "source": [
    "precision_test=tp/(tp+fp)\n",
    "precision_test"
   ]
  },
  {
   "cell_type": "code",
   "execution_count": 8,
   "metadata": {},
   "outputs": [
    {
     "data": {
      "text/plain": [
       "0.5882352941176471"
      ]
     },
     "execution_count": 8,
     "metadata": {},
     "output_type": "execute_result"
    }
   ],
   "source": [
    "recall_test=tp/(tp+fn)\n",
    "recall_test"
   ]
  },
  {
   "cell_type": "code",
   "execution_count": null,
   "metadata": {},
   "outputs": [],
   "source": []
  }
 ],
 "metadata": {
  "kernelspec": {
   "display_name": "Python 3",
   "language": "python",
   "name": "python3"
  },
  "language_info": {
   "codemirror_mode": {
    "name": "ipython",
    "version": 3
   },
   "file_extension": ".py",
   "mimetype": "text/x-python",
   "name": "python",
   "nbconvert_exporter": "python",
   "pygments_lexer": "ipython3",
   "version": "3.7.3"
  },
  "toc": {
   "base_numbering": 1,
   "nav_menu": {},
   "number_sections": true,
   "sideBar": true,
   "skip_h1_title": false,
   "title_cell": "Table of Contents",
   "title_sidebar": "Contents",
   "toc_cell": false,
   "toc_position": {},
   "toc_section_display": true,
   "toc_window_display": false
  },
  "varInspector": {
   "cols": {
    "lenName": 16,
    "lenType": 16,
    "lenVar": 40
   },
   "kernels_config": {
    "python": {
     "delete_cmd_postfix": "",
     "delete_cmd_prefix": "del ",
     "library": "var_list.py",
     "varRefreshCmd": "print(var_dic_list())"
    },
    "r": {
     "delete_cmd_postfix": ") ",
     "delete_cmd_prefix": "rm(",
     "library": "var_list.r",
     "varRefreshCmd": "cat(var_dic_list()) "
    }
   },
   "types_to_exclude": [
    "module",
    "function",
    "builtin_function_or_method",
    "instance",
    "_Feature"
   ],
   "window_display": false
  }
 },
 "nbformat": 4,
 "nbformat_minor": 2
}

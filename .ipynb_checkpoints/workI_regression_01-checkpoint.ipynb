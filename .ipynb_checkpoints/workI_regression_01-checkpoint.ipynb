{
 "cells": [
  {
   "cell_type": "code",
   "execution_count": 3,
   "metadata": {},
   "outputs": [],
   "source": [
    "import warnings\n",
    "\n",
    "import matplotlib.pyplot as plt\n",
    "import numpy as np\n",
    "import pandas as pd\n",
    "import seaborn as sns\n",
    "\n",
    "warnings.filterwarnings('ignore')\n",
    "\n",
    "%matplotlib inline"
   ]
  },
  {
   "cell_type": "markdown",
   "metadata": {},
   "source": [
    "# 回帰問題での評価指標\n",
    "1. RMSE(Root Mean Squared Error)\n",
    "2. MAE(Mean Absolute Error)\n",
    "3. 決定係数(R2 Score)\n",
    "\n",
    "---\n",
    "## RMSE (二乗平均平方根誤差)\n",
    "### ・導出方法\n",
    "観測値を $y_i(i=1,2,3,...,n)$、  モデルから算出する予測値を $\\hat{y}_i$ とすると、以下のように定義される。  \n",
    "\n",
    " $$\n",
    " RMSE=\\sqrt\n",
    " {\\frac{1}{n}\n",
    " \\sum_{i=1}^{n} (y_i-\\hat{y}_i)^2}\n",
    " $$ \n",
    "\n",
    "### ・特性\n",
    "- 観測値と計算値（予測値）が遠くなると、RMSE が著しく増える   \n",
    "→ RMSE は**外れ値の影響を受けやすい**\n",
    "- 大きいエラーを重要視する(大きな誤差を許容できない)場合に適している\n",
    "- 誤差は正規分布に従う\n",
    "\n",
    "\n",
    "## MAE (平均絶対誤差)\n",
    "### ・導出方法\n",
    "観測値を $y_i(i=1,2,3,...,n)$、  モデルから算出する予測値を $\\hat{y}_i$ とすると、以下のように定義される。  \n",
    "\n",
    " $$MAE=\\frac{1}{n}\\sum_{i=1}^{n} |y_i-\\hat{y}_i|$$ \n",
    "\n",
    "### ・特性\n",
    "- 観測値と予測値が近づくほど、MAE は小さくなる\n",
    "- 誤差を二乗していない→ 外れ値の影響を受けにくい\n",
    "- 多くの外れ値が存在するデータの誤差を評価したい、あるいは外れ値にあまり影響されない評価を行いたい場合に適している\n",
    "- 最大誤差がRSMEに比べて大きくなる傾向\n",
    "\n",
    "\n",
    "## R<sup>2</sup> (決定係数)\n",
    "### ・導出方法\n",
    "観測値を $y_i(i=1,2,3,...,n)$、  モデルから算出する予測値を $\\hat{y}_i$、観測地の平均を $\\overline{y}$ とすると、以下のように定義される(他の定義も存在する)。  \n",
    "\n",
    " $$\n",
    " R^2=1-\\frac\n",
    " {\\sum_{i=1}^{n} (y_i-\\hat{y}_i)^2}\n",
    " {\\sum_{i=1}^{n} (y_i-\\overline{y})^2}\n",
    " $$\n",
    "\n",
    "\n",
    "\n",
    "### ・特性\n",
    "- モデルの当てはまりの良さを示す\n",
    "- 観測値と予測値が近いほど1に近づく。\n",
    "- 逆に観測値と予測値がかけ離れていると、分子が大きな値となり、1から離れた値となる。  \n",
    "  → 1に近いほど予測の精度が高い"
   ]
  },
  {
   "cell_type": "markdown",
   "metadata": {},
   "source": [
    "## 手計算\n",
    "5つの整数(ランダムに生成)を予測値とする。  \n",
    "誤差をランダムに生成し、予測値に足したものを観測値とする。"
   ]
  },
  {
   "cell_type": "code",
   "execution_count": 98,
   "metadata": {},
   "outputs": [
    {
     "name": "stdout",
     "output_type": "stream",
     "text": [
      "Predicted Value : [49 33 12 46 34]\n",
      "Observed Value  : [49.60993813 33.02143623 12.15220072 46.95470613 34.80468256]\n"
     ]
    }
   ],
   "source": [
    "np.random.seed(seed=50)\n",
    "\n",
    "# 予測値\n",
    "predicted_value = np.random.randint(1,50,5)\n",
    "\n",
    "# 誤差\n",
    "noise=np.random.rand(5)\n",
    "\n",
    "# 観測値\n",
    "observed_value = predicted_value + noise\n",
    "\n",
    "print(f'Predicted Value : {predicted_value}')\n",
    "print(f'Observed Value  : {observed_value}')"
   ]
  },
  {
   "cell_type": "markdown",
   "metadata": {},
   "source": [
    "### RMSE"
   ]
  },
  {
   "cell_type": "code",
   "execution_count": 92,
   "metadata": {},
   "outputs": [
    {
     "data": {
      "text/plain": [
       "0.6252402591399473"
      ]
     },
     "execution_count": 92,
     "metadata": {},
     "output_type": "execute_result"
    }
   ],
   "source": [
    "rmse=np.sqrt(sum((observed_value-predicted_value)**2)/5)\n",
    "rmse"
   ]
  },
  {
   "cell_type": "markdown",
   "metadata": {},
   "source": [
    "### MAE"
   ]
  },
  {
   "cell_type": "code",
   "execution_count": 93,
   "metadata": {},
   "outputs": [
    {
     "data": {
      "text/plain": [
       "0.5085927545283905"
      ]
     },
     "execution_count": 93,
     "metadata": {},
     "output_type": "execute_result"
    }
   ],
   "source": [
    "mae=sum(abs(observed_value-predicted_value))/5\n",
    "mae"
   ]
  },
  {
   "cell_type": "markdown",
   "metadata": {},
   "source": [
    "### R<sup>2</sup>"
   ]
  },
  {
   "cell_type": "code",
   "execution_count": 94,
   "metadata": {},
   "outputs": [
    {
     "data": {
      "text/plain": [
       "0.9977835277957383"
      ]
     },
     "execution_count": 94,
     "metadata": {},
     "output_type": "execute_result"
    }
   ],
   "source": [
    "ov_mean=np.mean(observed_value)\n",
    "\n",
    "1-(sum((observed_value-predicted_value)**2)/sum((observed_value-ov_mean)**2))"
   ]
  }
 ],
 "metadata": {
  "kernelspec": {
   "display_name": "Python 3",
   "language": "python",
   "name": "python3"
  },
  "language_info": {
   "codemirror_mode": {
    "name": "ipython",
    "version": 3
   },
   "file_extension": ".py",
   "mimetype": "text/x-python",
   "name": "python",
   "nbconvert_exporter": "python",
   "pygments_lexer": "ipython3",
   "version": "3.7.3"
  },
  "toc": {
   "base_numbering": 1,
   "nav_menu": {},
   "number_sections": true,
   "sideBar": true,
   "skip_h1_title": false,
   "title_cell": "Table of Contents",
   "title_sidebar": "Contents",
   "toc_cell": false,
   "toc_position": {},
   "toc_section_display": true,
   "toc_window_display": false
  },
  "varInspector": {
   "cols": {
    "lenName": 16,
    "lenType": 16,
    "lenVar": 40
   },
   "kernels_config": {
    "python": {
     "delete_cmd_postfix": "",
     "delete_cmd_prefix": "del ",
     "library": "var_list.py",
     "varRefreshCmd": "print(var_dic_list())"
    },
    "r": {
     "delete_cmd_postfix": ") ",
     "delete_cmd_prefix": "rm(",
     "library": "var_list.r",
     "varRefreshCmd": "cat(var_dic_list()) "
    }
   },
   "types_to_exclude": [
    "module",
    "function",
    "builtin_function_or_method",
    "instance",
    "_Feature"
   ],
   "window_display": false
  }
 },
 "nbformat": 4,
 "nbformat_minor": 2
}
